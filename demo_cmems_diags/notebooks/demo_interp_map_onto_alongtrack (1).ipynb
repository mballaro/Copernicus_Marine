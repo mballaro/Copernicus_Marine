{
 "cells": [
  {
   "cell_type": "markdown",
   "id": "30dbf1da-b919-4aac-be4e-02e62903c557",
   "metadata": {},
   "source": [
    "![header](Copernicus_Marine/demo_cmems_diags/figures/logos.jpg)"
   ]
  },
  {
   "cell_type": "markdown",
   "id": "93e667d0-ebb1-49d4-aeb4-29f9790064b8",
   "metadata": {
    "tags": []
   },
   "source": [
    "# Copernicus Marine Sea Level Demo\n",
    "\n",
    "<div style=\"text-align: right\"><i> 2022-08-03 SEALEVEL_DEMO </i></div>\n",
    "\n",
    "***\n",
    "\n",
    "# How to quantify errors in Copernicus Sea Level products ?\n"
   ]
  },
  {
   "cell_type": "markdown",
   "id": "9c9db174-8be4-4785-b9df-4ff321cd0847",
   "metadata": {},
   "source": [
    "***\n",
    "**General Note 1**: Execute each cell through the <button class=\"btn btn-default btn-xs\"><i class=\"icon-play fa fa-play\"></i></button> button from the top MENU (or keyboard shortcut `Shift` + `Enter`).<br>\n",
    "<br>\n",
    "**General Note 2**: If, for any reason, the kernel is not working anymore, in the top MENU, click on the <button class=\"btn btn-default btn-xs\"><i class=\"fa fa-repeat icon-repeat\"></i></button> button. Then, in the top MENU, click on \"Cell\" and select \"Run All Above Selected Cell\".<br>\n",
    "***"
   ]
  },
  {
   "cell_type": "markdown",
   "id": "3f04191e-93af-4fb6-82c5-379bf7306628",
   "metadata": {
    "tags": []
   },
   "source": [
    "## 0. Environment Setup\n",
    "\n",
    "At first, let's setup the notebook with all the necessary tools available from the Jupyter Notebook Ecosystem.\n",
    "\n",
    "#### Importing modules\n",
    "* Unlike MATLAB, Python libraries need to be `imported` before they can be used\n",
    "* Imported libraries often have a short name (\"namespace\")  (not mandatory, though; you'll most often find xarray shortened as xr and numpy as np. For lisibility we choose not to, except for matplotlib.pyplot and cartopy.crs, a bit long)\n",
    "* Portions of libraries can be imported"
   ]
  },
  {
   "cell_type": "code",
   "execution_count": null,
   "id": "1dce2197",
   "metadata": {},
   "outputs": [],
   "source": [
    "import warnings\n",
    "import os\n",
    "import sys\n",
    "\n",
    "import numpy as np\n",
    "import numpy\n",
    "import xarray as xr\n",
    "import getpass\n",
    "import logging\n",
    "\n",
    "import hvplot.xarray\n",
    "import pyinterp\n",
    "import pyinterp.backends.xarray\n",
    "\n",
    "import pandas\n",
    "import datetime\n",
    "from datetime import timedelta\n",
    "\n",
    "%matplotlib inline\n",
    "warnings.simplefilter(\"ignore\")"
   ]
  },
  {
   "cell_type": "code",
   "execution_count": null,
   "id": "cd4c5c05-faf5-41e2-93c4-53a3c9875df6",
   "metadata": {},
   "outputs": [],
   "source": [
    "logger = logging.getLogger()\n",
    "logger.setLevel(logging.INFO)\n",
    "logging.basicConfig(\n",
    "    level=logging.INFO,\n",
    "    format='%(asctime)s %(levelname)s %(module)s: %(message)s',\n",
    "    datefmt='%Y-%m-%d %H:%M:%S',\n",
    ")"
   ]
  },
  {
   "cell_type": "code",
   "execution_count": null,
   "id": "95c3a9cb",
   "metadata": {},
   "outputs": [],
   "source": [
    "sys.path.append('..')"
   ]
  },
  {
   "cell_type": "code",
   "execution_count": null,
   "id": "e0be0aef",
   "metadata": {},
   "outputs": [],
   "source": [
    "from src.mod_io import *\n",
    "from src.mod_plot import *\n",
    "from src.mod_eddy import *\n",
    "from src.mod_interp import *\n",
    "from src.mod_scores import *\n",
    "from src.mod_spectral import *"
   ]
  },
  {
   "cell_type": "markdown",
   "id": "f500fb92-32c2-4f30-ab06-bbf604667d67",
   "metadata": {},
   "source": [
    "<hr>\n",
    "\n",
    "### Create an account on Copernicus Marine Service: https://resources.marine.copernicus.eu/registration-form"
   ]
  },
  {
   "cell_type": "markdown",
   "id": "f4356a3b",
   "metadata": {},
   "source": [
    "### Login"
   ]
  },
  {
   "cell_type": "code",
   "execution_count": null,
   "id": "8cb2763c",
   "metadata": {},
   "outputs": [],
   "source": [
    "USERNAME = 'mballarotta1'\n",
    "PASSWORD = getpass.getpass('Enter your password: ')"
   ]
  },
  {
   "cell_type": "markdown",
   "id": "4401f942",
   "metadata": {
    "tags": []
   },
   "source": [
    "## 1. Copernicus Products"
   ]
  },
  {
   "cell_type": "markdown",
   "id": "ba1b7c6b-7908-4a94-8a18-56df597aba8e",
   "metadata": {},
   "source": [
    "We will focus on the following product (available on the [Copernicus Catalogue](http://marine.copernicus.eu/services-portfolio/access-to-products/?option=com_csw&task=results)):\n",
    "- [SEALEVEL_GLO_PHY_L4_MY_008_047](https://resources.marine.copernicus.eu/product-detail/SEALEVEL_GLO_PHY_L4_MY_008_047/INFORMATION)\n",
    "- [SEALEVEL_GLO_PHY_L3_MY_008_062](https://resources.marine.copernicus.eu/product-detail/SEALEVEL_GLO_PHY_L3_MY_008_062/INFORMATION)"
   ]
  },
  {
   "cell_type": "code",
   "execution_count": null,
   "id": "4c95118c-88c1-49cc-83b8-18e3ca4ba984",
   "metadata": {},
   "outputs": [],
   "source": [
    "time_min = '2017-01-01'\n",
    "time_max = '2017-12-31'"
   ]
  },
  {
   "cell_type": "markdown",
   "id": "b095baa6-012b-45cd-8bc7-c0541bc9647c",
   "metadata": {
    "tags": []
   },
   "source": [
    "### 1.1 Alongtrack sea level data (SARAL/Altika)"
   ]
  },
  {
   "cell_type": "code",
   "execution_count": null,
   "id": "e1d2bcf4-613c-453b-84f5-94df2aa38589",
   "metadata": {},
   "outputs": [],
   "source": [
    "# ds_alg = get_cmems_duacs_alongtrack('alg', time_min , time_max, USERNAME, PASSWORD)\n",
    "# ds_alg"
   ]
  },
  {
   "cell_type": "code",
   "execution_count": null,
   "id": "86fcac08-e406-4c3d-b72b-c77da6ab266d",
   "metadata": {},
   "outputs": [],
   "source": [
    "# TODO: add ftp solution"
   ]
  },
  {
   "cell_type": "code",
   "execution_count": null,
   "id": "dda3fa1a-b19e-45b1-9c3d-7a77fca3b6d9",
   "metadata": {},
   "outputs": [],
   "source": [
    "ds_alg = xr.open_mfdataset('/data/PVA/v2021/Interne/ftp/CMEMS/global/dt-along-track/alg/2017/dt_global_alg_phy_l3_2017*.nc', combine='nested', concat_dim='time')\n",
    "ds_alg = ds_alg.where((ds_alg.time >= np.datetime64(time_min)) & (ds_alg.time <=  np.datetime64(time_max)), drop=True)\n",
    "ds_alg"
   ]
  },
  {
   "cell_type": "markdown",
   "id": "7fb91f86-afc4-4374-a5f3-96b5091db069",
   "metadata": {
    "tags": []
   },
   "source": [
    "### 1.2 Optimal interpolation sea level maps"
   ]
  },
  {
   "cell_type": "code",
   "execution_count": null,
   "id": "1ae5f85c",
   "metadata": {},
   "outputs": [],
   "source": [
    "DUACS_L4_DT_DATASET_ID = 'cmems_obs-sl_glo_phy-ssh_my_allsat-l4-duacs-0.25deg_P1D'"
   ]
  },
  {
   "cell_type": "code",
   "execution_count": null,
   "id": "526ade3c",
   "metadata": {},
   "outputs": [],
   "source": [
    "data_store_duacs_dt2021 = copernicusmarine_datastore(DUACS_L4_DT_DATASET_ID, USERNAME, PASSWORD)"
   ]
  },
  {
   "cell_type": "code",
   "execution_count": null,
   "id": "dbf74fab",
   "metadata": {},
   "outputs": [],
   "source": [
    "ds_duacs_dt2021 = xr.open_dataset(data_store_duacs_dt2021)"
   ]
  },
  {
   "cell_type": "code",
   "execution_count": null,
   "id": "415baedb",
   "metadata": {},
   "outputs": [],
   "source": [
    "ds_duacs_dt2021_selection = ds_duacs_dt2021.sel(time=slice(time_min, time_max))\n",
    "ds_duacs_dt2021_selection"
   ]
  },
  {
   "cell_type": "markdown",
   "id": "37779e8c-199e-48f8-bbfd-e627a93e67ed",
   "metadata": {
    "tags": []
   },
   "source": [
    "## 2. Statistical analysis: comparing sea level maps and along-track data"
   ]
  },
  {
   "cell_type": "markdown",
   "id": "604a2cb2-30e1-4ab3-87ec-5178d2276d73",
   "metadata": {
    "tags": []
   },
   "source": [
    "### 2.1 Interpolate sea level anomaly map onto along-track position"
   ]
  },
  {
   "cell_type": "code",
   "execution_count": null,
   "id": "71cda273-03bf-4ddd-a05c-a322caf4e8bf",
   "metadata": {},
   "outputs": [],
   "source": [
    "ds_interp = run_interpolation(ds_duacs_dt2021_selection, ds_alg)\n",
    "ds_interp"
   ]
  },
  {
   "cell_type": "markdown",
   "id": "b146b86b-bcb6-42ef-9af3-be814fcb659d",
   "metadata": {
    "tags": []
   },
   "source": [
    "### 2.2 Compute scores between maps and along-track"
   ]
  },
  {
   "cell_type": "code",
   "execution_count": null,
   "id": "c3b8faad-499c-4f7a-aca7-eae21527110b",
   "metadata": {},
   "outputs": [],
   "source": [
    "compute_stats_map(ds_interp, 'stats_map.nc')"
   ]
  },
  {
   "cell_type": "code",
   "execution_count": null,
   "id": "aaea6f2a-30d7-4089-b3f4-dc288ca80e72",
   "metadata": {},
   "outputs": [],
   "source": [
    "compute_stats_timeseries(ds_interp, 'stats_timeseries.nc')"
   ]
  },
  {
   "cell_type": "code",
   "execution_count": null,
   "id": "b9127317-504f-4f02-8e7e-ea4cfd1725be",
   "metadata": {},
   "outputs": [],
   "source": [
    "compute_psd_scores(ds_interp, 'psd_score.nc')"
   ]
  },
  {
   "cell_type": "markdown",
   "id": "c57f5bb8-6436-4c18-abfd-5f4afb8e51b4",
   "metadata": {
    "tags": []
   },
   "source": [
    "### 2.3 Visualize scores"
   ]
  },
  {
   "cell_type": "code",
   "execution_count": null,
   "id": "76dfb4a6-1cc8-437d-b67b-e689f8e27e2a",
   "metadata": {},
   "outputs": [],
   "source": [
    "plot_map_scores('stats_map.nc')"
   ]
  },
  {
   "cell_type": "code",
   "execution_count": null,
   "id": "b5bec562-5640-4dd0-90c1-ad5032c461a8",
   "metadata": {},
   "outputs": [],
   "source": [
    "plot_timeseries_scores('stats_timeseries.nc')"
   ]
  },
  {
   "cell_type": "code",
   "execution_count": null,
   "id": "9229af31-457d-4e23-9733-b0d710c20adb",
   "metadata": {},
   "outputs": [],
   "source": [
    "plot_psd_scores('psd_score.nc')"
   ]
  },
  {
   "cell_type": "code",
   "execution_count": null,
   "id": "23081962-c255-4a16-b12c-3a718a0ff072",
   "metadata": {},
   "outputs": [],
   "source": []
  },
  {
   "cell_type": "code",
   "execution_count": null,
   "id": "f74f737a-cb32-447f-a323-4a4212bc6110",
   "metadata": {},
   "outputs": [],
   "source": []
  },
  {
   "cell_type": "code",
   "execution_count": null,
   "id": "c87eafe2-2708-4bc3-983d-52266242d4b5",
   "metadata": {},
   "outputs": [],
   "source": []
  },
  {
   "cell_type": "code",
   "execution_count": null,
   "id": "484151eb-3299-4bb7-8a7c-4154f372b675",
   "metadata": {},
   "outputs": [],
   "source": []
  },
  {
   "cell_type": "code",
   "execution_count": null,
   "id": "f4f5b7c0-020c-47d9-b8ee-6eea252954cd",
   "metadata": {},
   "outputs": [],
   "source": []
  },
  {
   "cell_type": "code",
   "execution_count": null,
   "id": "52f3ea39-b544-459b-ae7d-0e741418f37c",
   "metadata": {},
   "outputs": [],
   "source": []
  }
 ],
 "metadata": {
  "kernelspec": {
   "display_name": "cmems_env",
   "language": "python",
   "name": "cmems_env"
  },
  "language_info": {
   "codemirror_mode": {
    "name": "ipython",
    "version": 3
   },
   "file_extension": ".py",
   "mimetype": "text/x-python",
   "name": "python",
   "nbconvert_exporter": "python",
   "pygments_lexer": "ipython3",
   "version": "3.8.12"
  },
  "toc-autonumbering": false
 },
 "nbformat": 4,
 "nbformat_minor": 5
}
