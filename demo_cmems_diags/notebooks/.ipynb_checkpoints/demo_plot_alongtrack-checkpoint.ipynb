{
 "cells": [
  {
   "cell_type": "markdown",
   "id": "51cd32c6",
   "metadata": {},
   "source": [
    "# Demo notebook: How to access CMEMS catalogue and display maps"
   ]
  },
  {
   "cell_type": "code",
   "execution_count": null,
   "id": "16f3a4c5",
   "metadata": {},
   "outputs": [],
   "source": [
    "import warnings\n",
    "import os\n",
    "import sys\n",
    "\n",
    "import numpy as np\n",
    "import xarray as xr\n",
    "import getpass\n",
    "\n",
    "\n",
    "%matplotlib inline\n",
    "warnings.simplefilter(\"ignore\")"
   ]
  },
  {
   "cell_type": "code",
   "execution_count": null,
   "id": "fb6c02a6",
   "metadata": {},
   "outputs": [],
   "source": [
    "sys.path.append('..')"
   ]
  },
  {
   "cell_type": "code",
   "execution_count": null,
   "id": "7a29694a",
   "metadata": {},
   "outputs": [],
   "source": [
    "from src.mod_io import *\n",
    "from src.mod_plot import *"
   ]
  },
  {
   "cell_type": "markdown",
   "id": "f777ef22",
   "metadata": {},
   "source": [
    "### Create an account on Copernicus Marine Service: \n",
    "#### https://resources.marine.copernicus.eu/registration-form"
   ]
  },
  {
   "cell_type": "markdown",
   "id": "5f9e5442",
   "metadata": {},
   "source": [
    "### Login"
   ]
  },
  {
   "cell_type": "code",
   "execution_count": null,
   "id": "9cbb0f8b",
   "metadata": {},
   "outputs": [],
   "source": [
    "USERNAME = 'mballarotta1'\n",
    "PASSWORD = getpass.getpass('Enter your password: ')"
   ]
  },
  {
   "cell_type": "code",
   "execution_count": null,
   "id": "2b513775",
   "metadata": {},
   "outputs": [],
   "source": [
    "get_cmems_duacs_alongtrack('alg', '2017-01-01', '2017-03-01', 'test_alg.nc', USERNAME, PASSWORD)"
   ]
  },
  {
   "cell_type": "markdown",
   "id": "1f15b29a",
   "metadata": {},
   "source": [
    "### Select Copernicus Sea level Product"
   ]
  },
  {
   "cell_type": "code",
   "execution_count": null,
   "id": "a94edc36",
   "metadata": {},
   "outputs": [],
   "source": [
    "DUACS_L4_DT_DATASET_ID = 'cmems_obs-sl_glo_phy-ssh_my_allsat-l4-duacs-0.25deg_P1D'\n",
    "GLORYS12v1_DATASET_ID = 'cmems_mod_glo_phy_my_0.083_P1D-m'"
   ]
  },
  {
   "cell_type": "markdown",
   "id": "3413ac79",
   "metadata": {},
   "source": [
    "### Read GLORYS12v1 Reanalysis Product"
   ]
  },
  {
   "cell_type": "code",
   "execution_count": null,
   "id": "0ca3e570",
   "metadata": {},
   "outputs": [],
   "source": [
    "data_store_glorys12v1 = copernicusmarine_datastore(GLORYS12v1_DATASET_ID, USERNAME, PASSWORD)"
   ]
  },
  {
   "cell_type": "code",
   "execution_count": null,
   "id": "bc88742e",
   "metadata": {},
   "outputs": [],
   "source": [
    "ds_glorys12v1 = xr.open_dataset(data_store_glorys12v1)\n",
    "ds_glorys12v1"
   ]
  },
  {
   "cell_type": "markdown",
   "id": "3ce62e89",
   "metadata": {},
   "source": [
    "### Read DUACS-DT2021 Reanalysis Product"
   ]
  },
  {
   "cell_type": "code",
   "execution_count": null,
   "id": "9294087d",
   "metadata": {},
   "outputs": [],
   "source": [
    "data_store_duacs_dt2021 = copernicusmarine_datastore(DUACS_L4_DT_DATASET_ID, USERNAME, PASSWORD)"
   ]
  },
  {
   "cell_type": "code",
   "execution_count": null,
   "id": "284093a3",
   "metadata": {},
   "outputs": [],
   "source": [
    "ds_duacs_dt2021 = xr.open_dataset(data_store_duacs_dt2021)\n",
    "ds_duacs_dt2021"
   ]
  },
  {
   "cell_type": "markdown",
   "id": "71cba47e",
   "metadata": {},
   "source": [
    "### Define Region/time of interest"
   ]
  },
  {
   "cell_type": "code",
   "execution_count": null,
   "id": "4f6d55cb",
   "metadata": {},
   "outputs": [],
   "source": [
    "date_of_interest = '2019-01-01'\n",
    "lon_min = 170.\n",
    "lon_max = 180. \n",
    "lat_min = 40.\n",
    "lat_max = 50."
   ]
  },
  {
   "cell_type": "code",
   "execution_count": null,
   "id": "dbafb9e1",
   "metadata": {},
   "outputs": [],
   "source": [
    "ds_duacs_dt2021_selection = ds_duacs_dt2021.sel(longitude=slice(lon_min, lon_max), latitude=slice(lat_min, lat_max), time=date_of_interest, drop=True)"
   ]
  },
  {
   "cell_type": "code",
   "execution_count": null,
   "id": "cebdb33d",
   "metadata": {},
   "outputs": [],
   "source": [
    "ds_glorys12v1_selection = ds_glorys12v1.sel(longitude=slice(lon_min, lon_max), latitude=slice(lat_min, lat_max), time=date_of_interest, drop=True)"
   ]
  },
  {
   "cell_type": "markdown",
   "id": "ff2d66f4",
   "metadata": {},
   "source": [
    "### Plot"
   ]
  },
  {
   "cell_type": "code",
   "execution_count": null,
   "id": "23c49a89",
   "metadata": {},
   "outputs": [],
   "source": [
    "plot_maps(ds_duacs_dt2021_selection['adt'], title='DUACS-DT2021') + plot_maps(ds_glorys12v1_selection['zos'], title='GLORYS12v1') "
   ]
  },
  {
   "cell_type": "code",
   "execution_count": null,
   "id": "02ce2d84",
   "metadata": {},
   "outputs": [],
   "source": []
  }
 ],
 "metadata": {
  "kernelspec": {
   "display_name": "cmems_env",
   "language": "python",
   "name": "cmems_env"
  },
  "language_info": {
   "codemirror_mode": {
    "name": "ipython",
    "version": 3
   },
   "file_extension": ".py",
   "mimetype": "text/x-python",
   "name": "python",
   "nbconvert_exporter": "python",
   "pygments_lexer": "ipython3",
   "version": "3.8.12"
  }
 },
 "nbformat": 4,
 "nbformat_minor": 5
}
