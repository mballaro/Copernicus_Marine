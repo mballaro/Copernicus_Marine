{
 "cells": [
  {
   "cell_type": "markdown",
   "id": "8884dfd2",
   "metadata": {},
   "source": [
    "# Demo notebook: How to access CMEMS catalogue and display maps"
   ]
  },
  {
   "cell_type": "code",
   "execution_count": null,
   "id": "85610b76",
   "metadata": {},
   "outputs": [],
   "source": [
    "import warnings\n",
    "import os\n",
    "import sys\n",
    "\n",
    "import numpy as np\n",
    "import xarray as xr\n",
    "import getpass\n",
    "import hvplot.xarray\n",
    "\n",
    "\n",
    "%matplotlib inline\n",
    "warnings.simplefilter(\"ignore\")"
   ]
  },
  {
   "cell_type": "code",
   "execution_count": null,
   "id": "2b0b2b1f",
   "metadata": {},
   "outputs": [],
   "source": [
    "sys.path.append('..')"
   ]
  },
  {
   "cell_type": "code",
   "execution_count": null,
   "id": "4d3252a4",
   "metadata": {},
   "outputs": [],
   "source": [
    "from src.mod_io import *\n",
    "from src.mod_plot import *"
   ]
  },
  {
   "cell_type": "markdown",
   "id": "a3b9b596",
   "metadata": {},
   "source": [
    "### Create an account on Copernicus Marine Service: \n",
    "#### https://resources.marine.copernicus.eu/registration-form"
   ]
  },
  {
   "cell_type": "markdown",
   "id": "31372548",
   "metadata": {},
   "source": [
    "### Login"
   ]
  },
  {
   "cell_type": "code",
   "execution_count": null,
   "id": "8353aa58",
   "metadata": {},
   "outputs": [],
   "source": [
    "USERNAME = 'mballarotta1'\n",
    "PASSWORD = getpass.getpass('Enter your password: ')"
   ]
  },
  {
   "cell_type": "code",
   "execution_count": null,
   "id": "6435ac7e",
   "metadata": {},
   "outputs": [],
   "source": [
    "ds_alg = get_cmems_duacs_alongtrack('alg', '2017-01-01', '2017-01-31', USERNAME, PASSWORD)\n",
    "ds_alg"
   ]
  },
  {
   "cell_type": "code",
   "execution_count": null,
   "id": "9a068884-34e7-428e-aa8f-811f54744990",
   "metadata": {},
   "outputs": [],
   "source": []
  },
  {
   "cell_type": "code",
   "execution_count": null,
   "id": "a27924ac",
   "metadata": {},
   "outputs": [],
   "source": [
    "ds_alg.hvplot.scatter(x='longitude', y='latitude', c='sla_unfiltered', datashade=True)"
   ]
  },
  {
   "cell_type": "code",
   "execution_count": null,
   "id": "22c75419-42a5-4509-8f08-c9c58d012c3b",
   "metadata": {},
   "outputs": [],
   "source": []
  }
 ],
 "metadata": {
  "kernelspec": {
   "display_name": "cmems_env",
   "language": "python",
   "name": "cmems_env"
  },
  "language_info": {
   "codemirror_mode": {
    "name": "ipython",
    "version": 3
   },
   "file_extension": ".py",
   "mimetype": "text/x-python",
   "name": "python",
   "nbconvert_exporter": "python",
   "pygments_lexer": "ipython3",
   "version": "3.8.12"
  }
 },
 "nbformat": 4,
 "nbformat_minor": 5
}
